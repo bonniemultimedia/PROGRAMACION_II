{
  "nbformat": 4,
  "nbformat_minor": 0,
  "metadata": {
    "colab": {
      "provenance": []
    },
    "kernelspec": {
      "name": "python3",
      "display_name": "Python 3"
    },
    "language_info": {
      "name": "python"
    }
  },
  "cells": [
    {
      "cell_type": "markdown",
      "source": [
        "# Practica Recursion"
      ],
      "metadata": {
        "id": "6rxdohV00iKL"
      }
    },
    {
      "cell_type": "markdown",
      "source": [
        "## **Ejercicio 1** Escriba una funcion recursiva que tome un numero natural n e imprima todos los numeros desde n hasta 1."
      ],
      "metadata": {
        "id": "MgICSXQXEZz5"
      }
    },
    {
      "cell_type": "code",
      "source": [
        "def recursion_1(num):   \n",
        "    if num == 1:\n",
        "       return num\n",
        "    print(num)\n",
        "    return recursion_1(num - 1)\n",
        "\n",
        "recursion_1(5)"
      ],
      "metadata": {
        "colab": {
          "base_uri": "https://localhost:8080/"
        },
        "id": "MCa4OrZB9l6I",
        "outputId": "4ce9d919-fb1d-4fea-c5d0-70788e8bdd42"
      },
      "execution_count": 30,
      "outputs": [
        {
          "output_type": "stream",
          "name": "stdout",
          "text": [
            "5\n",
            "4\n",
            "3\n",
            "2\n"
          ]
        },
        {
          "output_type": "execute_result",
          "data": {
            "text/plain": [
              "1"
            ]
          },
          "metadata": {},
          "execution_count": 30
        }
      ]
    },
    {
      "cell_type": "markdown",
      "source": [
        "## **Ejercicio 2** Escribir una función recursiva que calcule recursivamente el n-ésimo número triangular (el número 1 + 2 + 3 + ⋯ + n)."
      ],
      "metadata": {
        "id": "S_zEBM1d4wfm"
      }
    },
    {
      "cell_type": "markdown",
      "source": [
        "Cada número triangular Tn está definido por la siguiente fórmula: \n"
      ],
      "metadata": {
        "id": "2N8cJy_GrEE7"
      }
    },
    {
      "cell_type": "code",
      "source": [
        "def recursion_2(num, triangular = 1):\n",
        "    if num == 1:\n",
        "        return triangular \n",
        "    triangular = triangular + num      \n",
        "    return recursion_2(num - 1, triangular)"
      ],
      "metadata": {
        "colab": {
          "base_uri": "https://localhost:8080/"
        },
        "id": "4yRzr0Zy98vJ",
        "outputId": "e5b72278-9c97-4957-c428-4f01734d3406"
      },
      "execution_count": 27,
      "outputs": [
        {
          "output_type": "execute_result",
          "data": {
            "text/plain": [
              "3"
            ]
          },
          "metadata": {},
          "execution_count": 27
        }
      ]
    },
    {
      "cell_type": "code",
      "source": [
        "recursion_2(2)"
      ],
      "metadata": {
        "colab": {
          "base_uri": "https://localhost:8080/"
        },
        "id": "ylktWkiOt42T",
        "outputId": "c01876d8-5a43-4366-f60a-047924f4f191"
      },
      "execution_count": 28,
      "outputs": [
        {
          "output_type": "execute_result",
          "data": {
            "text/plain": [
              "3"
            ]
          },
          "metadata": {},
          "execution_count": 28
        }
      ]
    },
    {
      "cell_type": "code",
      "source": [
        "recursion_2(5)"
      ],
      "metadata": {
        "colab": {
          "base_uri": "https://localhost:8080/"
        },
        "id": "neZlydSZt6zV",
        "outputId": "4926c6fe-a887-4582-cf48-9bb7fccae6bf"
      },
      "execution_count": 29,
      "outputs": [
        {
          "output_type": "execute_result",
          "data": {
            "text/plain": [
              "15"
            ]
          },
          "metadata": {},
          "execution_count": 29
        }
      ]
    },
    {
      "cell_type": "code",
      "source": [
        "recursion_2(1)"
      ],
      "metadata": {
        "colab": {
          "base_uri": "https://localhost:8080/"
        },
        "id": "sGze1ZOEuhE-",
        "outputId": "324df96d-061a-4ea9-e1a1-61ef110b74b1"
      },
      "execution_count": 30,
      "outputs": [
        {
          "output_type": "execute_result",
          "data": {
            "text/plain": [
              "1"
            ]
          },
          "metadata": {},
          "execution_count": 30
        }
      ]
    },
    {
      "cell_type": "markdown",
      "source": [
        "**Ejercicio 3** Escribir una función recursiva que reciba un número positivo n y devuelva la cantidad de dígitos que tiene."
      ],
      "metadata": {
        "id": "NcFbTBst0k9h"
      }
    },
    {
      "cell_type": "markdown",
      "source": [
        "**Ejercicio 4** Escribir una funcion recursiva que encuentre el mayor elemento de una lista."
      ],
      "metadata": {
        "id": "LnoHH96w5Boy"
      }
    },
    {
      "cell_type": "markdown",
      "source": [
        "**Ejercicio 5** Escribir una función recursiva que reciba 2 enteros n y b y devuelva True si n es potencia de b.\n",
        "\n",
        "**Ejemplos**:\n",
        "- es_potencia(8, 2) -> True\n",
        "- es_potencia(64, 4) -> True\n",
        "- es_potencia(70, 10) -> False"
      ],
      "metadata": {
        "id": "iwkC8qNp1MLv"
      }
    },
    {
      "cell_type": "markdown",
      "source": [
        "**Ejercicio 6** Escribir una función recursiva para replicar los elementos de una lista una cantidad n de veces. Por ejemplo:\n",
        "- replicar([1, 3, 3, 7], 2) -> ([1, 1, 3, 3, 3, 3, 7, 7])"
      ],
      "metadata": {
        "id": "3Xgvx8UH5oIZ"
      }
    },
    {
      "cell_type": "markdown",
      "source": [
        "**Ejercicio 7** Escriba una funcion que tome una lista y devuelva esa misma lista en orden inverso. Realice dos versiones:\n",
        "\n",
        "* `reversaR` que resuelva utilizando recursión.\n",
        "* `reversaI` que resuelva utilizando iteración."
      ],
      "metadata": {
        "id": "9mXgr_gQRWiH"
      }
    },
    {
      "cell_type": "markdown",
      "source": [
        "**Ejercicio 8** Escribir una funcion recursiva que reciba como parámetros dos cadenas a y b, y encuentre la posicion de la primer ocurrencia de b como subcadena de a\n",
        "\n",
        "**Ejemplo**:\n",
        "- posicion_de(\"Un tete a tete con Tete\", \"te\") -> 3\n",
        "\n",
        "**Ayuda**\n",
        "- Puede ser de utilidad el método de `str.startswith` que nos dice si una cadena empieza con una subcadena dada. Puede leer mas sobre este método en la [documentacion oficial](https://docs.python.org/3/library/stdtypes.html?highlight=startswith#str.startswith) "
      ],
      "metadata": {
        "id": "R_MVS9FV2p2_"
      }
    },
    {
      "cell_type": "markdown",
      "source": [
        "## Recursión con wrappers\n",
        "\n",
        "Al diseñar funciones recursivas muchas veces puede ser útil implementar una función **wrapper**, por ejemplo para cambiar los valores que hay que tomar, validar parámetros, inicializar datos o manejar excepciones.\n",
        "\n",
        "Se utiliza una función recursiva, llamada funcion auxiliar, como base y luego una funcion no recursiva, llamada wrapper, que utiliza la funcion auxiliar para resolver lo pedido. \n",
        "\n",
        "Por ejemplo, si necesitamos escribir una función recursiva para calcular el promedio, puede no ser evidente como hacerlo:\n",
        "\n",
        "```python\n",
        "def promediar(lista):\n",
        "  if len(lista) == 0:\n",
        "    return ???\n",
        "  promediar(lista[1:]) ???\n",
        "```\n",
        "\n",
        "Para calcular un promedio necesitamos computar tanto una suma como contar la cantidad de elementos. Podemos hacerlo con una función auxiliar\n",
        "\n",
        "```python\n",
        "def _promediar(lista):\n",
        "  if len(lista) == 0:\n",
        "    return 0, 0\n",
        "  cant, suma = promediar(lista[1:])\n",
        "  return cant +1, suma + lista[0]\n",
        "\n",
        "def promediar(lista):\n",
        "  cant, suma = _promediar(lista)\n",
        "  return suma / cant\n",
        "```"
      ],
      "metadata": {
        "id": "zaR3YsHi7SaA"
      }
    },
    {
      "cell_type": "markdown",
      "source": [
        "**Ejercicio 9** Escribir una funcion recursiva que dada una cadena determine si en la misma hay más letras A o letras E. Utilizar una funcion auxiliar."
      ],
      "metadata": {
        "id": "--lq2ot56HOe"
      }
    },
    {
      "cell_type": "markdown",
      "source": [
        "**Ejercicio 10** Escriba una función `potencia(b,n) que calcule la potencia para cualquier n entero, incluso si n es negativa. Utilizar una funcion auxiliar. "
      ],
      "metadata": {
        "id": "3dx3RMhe_ZTc"
      }
    },
    {
      "cell_type": "markdown",
      "source": [
        "**Ejercicio 11** Ya sabemos que la implementación recursiva del cálculo del número de Fibonacci (Fn = Fn−1 + Fn−2, F0 = 0, F1 = 1) es ineficiente porque muchas de las ramas calculan reiteradamente los mismos valores.\n",
        "\n",
        "Escribir una función fibonacci(n) que calcule el enésimo número de Fibonacci de forma recursiva pero que utilice un diccionario para almacenar los valores ya computados y no computarlos más de una vez.\n",
        "\n",
        "**Nota**: Será necesario implementar una función wrapper para cumplir con la firma de la función pedida."
      ],
      "metadata": {
        "id": "XD295CPgAQ0D"
      }
    }
  ]
}