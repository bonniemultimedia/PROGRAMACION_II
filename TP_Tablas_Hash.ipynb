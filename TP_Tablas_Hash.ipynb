{
  "nbformat": 4,
  "nbformat_minor": 0,
  "metadata": {
    "colab": {
      "provenance": []
    },
    "kernelspec": {
      "name": "python3",
      "display_name": "Python 3"
    },
    "language_info": {
      "name": "python"
    }
  },
  "cells": [
    {
      "cell_type": "markdown",
      "source": [
        "María Florencia Gómez"
      ],
      "metadata": {
        "id": "ZRiQsTbL7A24"
      }
    },
    {
      "cell_type": "code",
      "source": [
        "#tabla m < |U (m no tiene que ser mayor a U)\n",
        "\n",
        "#clave alfanumerica máximo 10 caracteres\n",
        "\n",
        "#Por lo tanto, se realiza un re-hash de una tabla hash o se redimensiona si el factor de carga α se aproxima a 1. Una tabla también se redimensiona si el factor de carga cae por debajo de cierta cifra. Las cifras aceptables del factor de carga α se encuentran en entre 0,6 y 0,75.\n",
        "\n",
        "class HashTable:\n",
        "  def __init__(self, capacidad):\n",
        "    self.m = capacidad\n",
        "    self.table = [ [] for _ in range(self.m) ]  #creo una lista de longitud igual a la capacidad y una lista por cada elemento de la tabla (COLISIONES)\n",
        "\n",
        "  def validar_clave(self, clave):\n",
        "    return len(clave) <= 10 # si la clave tiene como máximo 10 caracteres.\n",
        "\n",
        "  def hashFunction(self, clave):\n",
        "    hash = 0\n",
        "    clave = str(clave)\n",
        "    if self.validar_clave(clave):\n",
        "      for c in clave:\n",
        "        cuenta = (ord(c) % self.m) * hash\n",
        "        hash += cuenta #ord(convierte el valor alfanumerico al int correspondiente al valor Unicode)\n",
        "      return hash % self.m\n",
        "    else:\n",
        "      print(\"Ingrese una clave correcta\")\n",
        "\n",
        "  def poner(self, clave, valor, stock):\n",
        "    hash_posicion = self.hashFunction(clave) #Guardo el valor de la posicion\n",
        "    self.table[hash_posicion].append((clave, valor, stock)) #en la lista correspondiente a esa posicion agrego una tupla que contiene la clave, el nombre del producto y el stock\n",
        "    print(\"El producto fue ingresado\")\n",
        "\n",
        "  def buscar(self, clave): #te devuelve la posicion que esta guardado un valor\n",
        "    hash_posicion = self.hashFunction(clave)\n",
        "    busqueda = self.table[hash_posicion] #lista en la posicion de la clave (acá estan las colisiones), entonces tengo que recorrer dicha lista buscando que coincida la clave almacenada en la tupla\n",
        "    for i in busqueda: #Si el primer elemento de la tupla (osea la clave) es igual al valor ingresado, entonces muestro el segundo elemento de la tupla (osea el nombre del producto)\n",
        "      if i[0] == clave:\n",
        "        return print(f'El producto con la clave {i[0]} es {i[1]} y consta de un stock de {i[2]}')\n",
        "\n",
        "  def sacar(self, clave): #elimina el elemento segun su clave\n",
        "    hash_posicion = self.hashFunction(clave)\n",
        "    busqueda = self.table[hash_posicion]\n",
        "    for i in busqueda:\n",
        "      if i[0] == clave:\n",
        "        busqueda.pop(busqueda.index(i))\n",
        "        return print(f'El producto con la clave {i[0]} ha sido eliminado')\n",
        "\n",
        "  def stats(self):\n",
        "     factor_carga = self.stats_factor_carga()\n",
        "     print(f\"El factor de carga es {factor_carga}\")\n",
        "\n",
        "     productos_cargados = self.elementos_cargados()\n",
        "     print(f\"La cantidad de productos almacenados es {productos_cargados}\")\n",
        "\n",
        "  def elementos_cargados(self):\n",
        "    contador_productos = 0\n",
        "    for listas in self.table:\n",
        "      for productos in listas:\n",
        "        if listas != []:\n",
        "          contador_productos += 1\n",
        "    return contador_productos\n",
        "\n",
        "  def longitud_listas_colisiones(self):\n",
        "    contador_listas_largo = 0\n",
        "    for listas in self.table:\n",
        "      for productos in listas:\n",
        "        if len(listas) > contador_listas_largo:\n",
        "          contador_listas_largo = len(listas)\n",
        "    return contador_listas_largo\n",
        "\n",
        "  def cantidad_de_elementos(self):\n",
        "    cantidad = 0\n",
        "    for lista in self.table:\n",
        "      cantidad += len(lista)\n",
        "    return cantidad\n",
        "\n",
        "  def stats_factor_carga(self):\n",
        "    cantidad = self.cantidad_de_elementos()\n",
        "    factor = cantidad / self.m\n",
        "    return factor\n",
        "\n",
        "hash_ob = HashTable(capacidad = 13397) # Este valor podria ser dinamico, si el usuario ingresa el valor maximo de productos y se crean dos metodos. Uno para calcular la tercera parte y otro para calcular que sea primo.\n",
        "\n",
        "def menu() -> None:\n",
        "    print(\"1. Add new item\")\n",
        "    print(\"2. Query item\")\n",
        "    print(\"3. Delete item\")\n",
        "    print(\"4. Stats\")\n",
        "    print(\"5. Exit\")\n",
        "    print()\n",
        "\n",
        "if __name__ == \"__main__\":\n",
        "    while True:\n",
        "        menu()\n",
        "        choice = int(input(\"Enter choice: \"))\n",
        "        if choice == 1:\n",
        "          clave = input(\"Ingrese el codigo del producto: \")\n",
        "          valor = input(\"Ingrese el nombre: \")\n",
        "          stock = input(\"Ingrese cantidad de unidades disponibles: \")\n",
        "          hash_ob.poner(clave, valor,stock)\n",
        "        elif choice == 2:\n",
        "          clave = input(\"Ingrese codigo del productoo a buscar: \")\n",
        "          hash_ob.buscar(clave)\n",
        "        elif choice == 3:\n",
        "          clave = input(\"Ingrese la clave del producto que quiere eliminar: \")\n",
        "          hash_ob.sacar(clave)\n",
        "        elif choice == 4:\n",
        "          hash_ob.stats()\n",
        "        elif choice == 5:\n",
        "            break\n",
        "        else:\n",
        "            print(\"Invalid choice\")\n",
        "        print()\n",
        "\n"
      ],
      "metadata": {
        "id": "aHFIza7NYhyc",
        "colab": {
          "base_uri": "https://localhost:8080/"
        },
        "outputId": "3ab1f9d8-ef23-44fd-d68e-05f18a8e5947"
      },
      "execution_count": null,
      "outputs": [
        {
          "name": "stdout",
          "output_type": "stream",
          "text": [
            "1. Add new item\n",
            "2. Query item\n",
            "3. Delete item\n",
            "4. Stats\n",
            "5. Exit\n",
            "\n",
            "Enter choice: 5\n"
          ]
        }
      ]
    }
  ]
}