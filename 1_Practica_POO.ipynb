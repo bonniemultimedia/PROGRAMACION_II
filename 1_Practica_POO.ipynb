{
  "nbformat": 4,
  "nbformat_minor": 0,
  "metadata": {
    "colab": {
      "provenance": []
    },
    "kernelspec": {
      "name": "python3",
      "display_name": "Python 3"
    },
    "language_info": {
      "name": "python"
    }
  },
  "cells": [
    {
      "cell_type": "markdown",
      "source": [
        "# Practica 1\n",
        "\n"
      ],
      "metadata": {
        "id": "j3sTF5h-XSAK"
      }
    },
    {
      "cell_type": "markdown",
      "source": [
        "## Introducción a Jupyter Notebooks/Google Colab\n"
      ],
      "metadata": {
        "id": "fqqZSo3CVoLv"
      }
    },
    {
      "cell_type": "markdown",
      "source": [
        "Los Jupyter Notebooks pueden ser considerados documentos donde se puede escribir tanto texto como código. Los Jupyter Notebooks soportan múltiples lenguajes de programación, incluidos Python, R, Julia y Matlab, los más utilizados en análisis de datos y computación científica.\n",
        "\n",
        "Los Jupyter Notebooks pueden ser abiertos desde el navegador de la PC (Chrome, Firefox, Edge o cualquier otro).\n",
        "\n",
        "Se puede instalar un entorno local para trabajar con Jupyter Notebooks mediante la [distribución Anaconda](https://www.anaconda.com/products/distribution) de Python. Esta distribución de Python es gratuita, open-source y fácil de usar. Es además multiplataforma, podemos usarla en Mac, Windows o Linux indistintamente. Esta pensada para ser usada por científicos de datos, y por ello, trae incluidos muchos paquetes para trabajar en modelos de aprendizaje automatizado.\n",
        "\n",
        "Si ya tenemos un entorno local de Python funcionando y solo queremos agregar la posibilidad de utilizar Jupyter Notebooks, sin instalar todo el ecosistema de nuevo, podemos hacerlo directamente a través de la [página oficial de Jupyter Notebooks](https://jupyter.org/install).\n",
        "\n",
        "Sin embargo lo más cómodo (y lo recomendado para este curso) es utilizar Google Colab. Google Colab es una herramienta muy similar a Jupyter Notebooks, pero no requiere ningún tipo de almacenamiento ya que esta completamente alojado en la nube de Google. Se puede utilizar en conjunto con Google Drive, almacenando los notebooks que escribamos como cualquier otro tipo de documento. Además, esto permite compartir y editar colaborativamente los notebooks. Al igual que la instalación con Anaconda, ya trae incluidos muchos paquetes estándar para el desarrollo de programas orientados al análisis de datos.\n",
        "\n",
        "Tanto en Jupyter Notebooks como en Google Colab, los documentos están compuestos por una serie de *celdas* (del inglés *cells*). Hay celdas de dos tipos, de texto y de código.\n",
        "\n",
        "Una celda de texto (como esta que estas leyendo ahora) contiene texto en [formato Markdown](https://markdown.es/). Esto permite escribir texto enriquecido con algunos formatos y enlaces de forma muy simple. Una guía para empezar a escribir en este formato puede ser encontrada en (esta página)[https://markdown.es/sintaxis-markdown/]. Adicionalmente, tenemos soporte para LaTeX para escribir ecuaciones matemáticas.\n",
        "\n",
        "Las celdas de código contiene instrucciones para la computadora, sea el código Python propiamente dicho u otras instrucciones auxiliares. Veamos nuestra primera celda de código:"
      ],
      "metadata": {
        "id": "BVLKXC8RV1T1"
      }
    },
    {
      "cell_type": "code",
      "source": [
        "print(\"Hola mundo!\")"
      ],
      "metadata": {
        "colab": {
          "base_uri": "https://localhost:8080/"
        },
        "id": "OyQwuqB5V0LY",
        "outputId": "222e88fd-4b72-470e-9d2b-0d3541186f7d"
      },
      "execution_count": 1,
      "outputs": [
        {
          "output_type": "stream",
          "name": "stdout",
          "text": [
            "Hola mundo!\n"
          ]
        }
      ]
    },
    {
      "cell_type": "markdown",
      "source": [
        "Notarás que la celda de código tiene un icono triangular a su izquierda (recordando al ícono \"play\" de un equipo de música). Al hacer clic en este ícono se correran las instrucciones que haya en la celda (puede ser más de una) y Jupyter Notebooks/Google Colab nos mostrara el resultado debajo. Luego de eso, el ícono cambia a un número que nos irá mostrando el orden en el que corrimos las diferentes celdas. Si acercamos el mouse a este número recuperamos el ícono triangular que nos permitirá volver a correr una celda.\n",
        "\n",
        "\n",
        "---\n",
        "\n",
        "\n"
      ],
      "metadata": {
        "id": "gs8qxu4ejfaa"
      }
    },
    {
      "cell_type": "markdown",
      "source": [
        "## Programación Orientada a Objetos con Python"
      ],
      "metadata": {
        "id": "j83uJugFVxHm"
      }
    },
    {
      "cell_type": "markdown",
      "source": [
        "Realizar un pequeño proyecto para representar mediante clases y objetos juegos con un mazo de carta españolas, como la casita robada, la escoba de 15, el chinchon o el truco argentino. \n",
        "\n",
        "Conocimiento de base: Un mazo de cartas españolas trae 50 cartas. Estas estan clasificadas segun su _palo_, que puede ser Bastos, Espadas, Copas u Oros. Hay 12 cartas de cada tipo, numeradas correspondientemente. Es común llamar Sota a la carta con el número 10, Caballo a la carta con el número 11, Rey a la carta con el número 12 y As a la carta con el número 1. El mazo de cartas de españolas se completa con dos comodines. \n"
      ],
      "metadata": {
        "id": "_HipFk96Vl-l"
      }
    },
    {
      "cell_type": "markdown",
      "source": [
        "Un objeto tiene tres características fundamentales, identidad, estado\n",
        "y comportamiento. \n",
        "\n",
        "---\n",
        "\n",
        "\n",
        "La forma más sencilla de pensar en las clases es pensarlas como un\n",
        "nuevo tipo de datos.\n",
        "\n",
        "---\n",
        "\n",
        "\n",
        "Las clases proveen una forma de empaquetar datos y funcionalidad\n",
        "juntos.\n",
        "\n",
        "---\n",
        "\n",
        "\n",
        "Al crear una nueva clase, se crea un nuevo tipo de objeto,\n",
        "permitiendo crear nuevas instancias de ese tipo. En este sentido, una\n",
        "clase es una plantilla para la creaci´on de objetos nuevos.\n",
        "\n",
        "\n",
        "---\n",
        "\n",
        "\n",
        "A las distintas caracter´ısticas que tendr´a el objeto (peso, colores de\n",
        "pelo, due˜nx, etc.) las llamamos atributos. El conjunto de atributos\n",
        "nos da el estado de un objeto.\n",
        "\n",
        "\n",
        "---\n",
        "\n",
        "\n",
        "A los distintos comportamientos asociados al objeto (comer, maullar,\n",
        "ronronear, etc.) los llamamos m´etodos.\n",
        "\n"
      ],
      "metadata": {
        "id": "LiYV_DIuIGZO"
      }
    },
    {
      "cell_type": "markdown",
      "source": [
        "## **Ejercicio 1**: Definir una clase Carta."
      ],
      "metadata": {
        "id": "2gUsnhrtG7jk"
      }
    },
    {
      "cell_type": "code",
      "source": [
        "# Atributos: Palo, Número, Comodin\n",
        "class Carta():\n",
        "\n",
        "  def __init__(self, palo, numero):\n",
        "    self.palo = palo\n",
        "    self.numero = numero\n",
        "\n",
        "  def __str__(self):\n",
        "    if self.palo == \"Comodín\" and self.numero == 0:\n",
        "      return \"Comodín\"\n",
        "    elif self.numero == 1: \n",
        "      return \"Az de \"+self.palo\n",
        "    elif self.numero == 10: \n",
        "      return \"Sota de \"+self.palo\n",
        "    elif self.numero == 11: \n",
        "      return \"Caballo de \"+self.palo\n",
        "    elif self.numero == 12: \n",
        "      return \"Rey de \"+self.palo\n",
        "    else: \n",
        "      return str(self.numero)+\" de \"+self.palo\n",
        "\n",
        "  __repr__ = __str__ #este metodo convierte los objetos guardardamos en listas\n",
        "\n",
        "  def __eq__(self, other):\n",
        "    if self.palo == other.palo and self.numero == other.numero:\n",
        "      return True\n",
        "    else:\n",
        "      return False\n",
        "\n",
        "      \n"
      ],
      "metadata": {
        "id": "2oZQ4Z2mG5uc"
      },
      "execution_count": 2,
      "outputs": []
    },
    {
      "cell_type": "markdown",
      "source": [
        "**Ejercicio 2**: Instanciar objetos que representen el as de espadas, un comodín, el 3 de copas y el rey de bastos"
      ],
      "metadata": {
        "id": "WtElgLpHY6oz"
      }
    },
    {
      "cell_type": "code",
      "source": [
        "As_Espadas = Carta(\"Espada\", 1)"
      ],
      "metadata": {
        "id": "WClzxPTbOREW"
      },
      "execution_count": 3,
      "outputs": []
    },
    {
      "cell_type": "code",
      "source": [
        "Comodín = Carta(\"Comodín\", 0)\n",
        "Comodin2 = Carta(\"Comodín\", 0)\n"
      ],
      "metadata": {
        "id": "Bviumg9xT5LX"
      },
      "execution_count": 4,
      "outputs": []
    },
    {
      "cell_type": "code",
      "source": [
        "Tres_Copas = Carta(\"Copas\", 3)"
      ],
      "metadata": {
        "id": "FVf4Ao2mUGYP"
      },
      "execution_count": 5,
      "outputs": []
    },
    {
      "cell_type": "code",
      "source": [
        "Rey_Bastos = Carta(\"Bastos\", 12)"
      ],
      "metadata": {
        "id": "e9IDaYTsUTZ3"
      },
      "execution_count": 6,
      "outputs": []
    },
    {
      "cell_type": "markdown",
      "source": [
        "**Ejercicio 3**: Definir un método que nos permita imprimir las cartas como lo haríamos naturalmente."
      ],
      "metadata": {
        "id": "f_BNcaksacdM"
      }
    },
    {
      "cell_type": "code",
      "source": [
        "print(As_Espadas)"
      ],
      "metadata": {
        "colab": {
          "base_uri": "https://localhost:8080/"
        },
        "id": "HqUMsgg3b1Pd",
        "outputId": "af16dade-cb3f-457c-941d-72ae1af23969"
      },
      "execution_count": 7,
      "outputs": [
        {
          "output_type": "stream",
          "name": "stdout",
          "text": [
            "Az de Espada\n"
          ]
        }
      ]
    },
    {
      "cell_type": "code",
      "source": [
        "print(Comodín)"
      ],
      "metadata": {
        "colab": {
          "base_uri": "https://localhost:8080/"
        },
        "id": "Lg-Y-tvGcPQk",
        "outputId": "c8505873-097a-490e-d960-16099a1175f7"
      },
      "execution_count": 8,
      "outputs": [
        {
          "output_type": "stream",
          "name": "stdout",
          "text": [
            "Comodín\n"
          ]
        }
      ]
    },
    {
      "cell_type": "markdown",
      "source": [
        "**Ejercicio 4**: Escribir un método que nos permita comparar cartas por igualdad"
      ],
      "metadata": {
        "id": "1lthhz-4bTGh"
      }
    },
    {
      "cell_type": "code",
      "source": [
        "Rey_Bastos == Tres_Copas"
      ],
      "metadata": {
        "colab": {
          "base_uri": "https://localhost:8080/"
        },
        "id": "J5gfbdCrjGlO",
        "outputId": "b180bccd-39ed-406b-afc4-d8bc66cb1724"
      },
      "execution_count": 9,
      "outputs": [
        {
          "output_type": "execute_result",
          "data": {
            "text/plain": [
              "False"
            ]
          },
          "metadata": {},
          "execution_count": 9
        }
      ]
    },
    {
      "cell_type": "code",
      "source": [
        "Comodín == Comodin2"
      ],
      "metadata": {
        "colab": {
          "base_uri": "https://localhost:8080/"
        },
        "id": "mcmILqMijUwP",
        "outputId": "918b7945-f392-4c4b-cfba-37b670694bfa"
      },
      "execution_count": 10,
      "outputs": [
        {
          "output_type": "execute_result",
          "data": {
            "text/plain": [
              "True"
            ]
          },
          "metadata": {},
          "execution_count": 10
        }
      ]
    },
    {
      "cell_type": "markdown",
      "source": [
        "**Ejercicio 5**: Escribir una clase mazo, que construya el mazo de cartas españolas. Escribir un método que devuelve cuantas cartas hay en el mazo."
      ],
      "metadata": {
        "id": "7NlRlvLtb8xE"
      }
    },
    {
      "cell_type": "code",
      "source": [
        "import random\n",
        "\n",
        "class Mazo():\n",
        " \n",
        "   def __init__(self, palos, numero_maximo):\n",
        "    self.palos = palos\n",
        "    self.numero = numero_maximo\n",
        "    self.lista = []\n",
        "  \n",
        "   def construir_mazo(self):\n",
        "     num_max = range(self.numero)\n",
        "     palos_cantidad = range(len(self.palos))\n",
        "     for numero in num_max:\n",
        "       for palo in palos_cantidad:\n",
        "          carta = Carta(self.palos[palo], numero + 1)\n",
        "          self.lista.append(carta)\n",
        "    \n",
        "   def __str__(self):\n",
        "      return f\"{self.lista}\"\n",
        "\n",
        "   def mezclar_mazo(self):\n",
        "     return random.sample(self.lista, len(self.lista))\n",
        "     \n",
        "  \n",
        "  \n"
      ],
      "metadata": {
        "id": "k-NhWfeWjiqX"
      },
      "execution_count": 11,
      "outputs": []
    },
    {
      "cell_type": "code",
      "source": [
        "Mazo_Español = Mazo(palos = [\"Basto\", \"Copas\", \"Oro\", \"Espada\"], numero_maximo = 12)"
      ],
      "metadata": {
        "id": "78Njw7XYfMJ7"
      },
      "execution_count": 12,
      "outputs": []
    },
    {
      "cell_type": "code",
      "source": [
        "Mazo_Español.construir_mazo()\n",
        "print(Mazo_Español)"
      ],
      "metadata": {
        "colab": {
          "base_uri": "https://localhost:8080/"
        },
        "id": "vSis60OSfgt7",
        "outputId": "b4d6817b-8ccb-4a24-bdba-259c4aed95e9"
      },
      "execution_count": 13,
      "outputs": [
        {
          "output_type": "stream",
          "name": "stdout",
          "text": [
            "[Az de Basto, Az de Copas, Az de Oro, Az de Espada, 2 de Basto, 2 de Copas, 2 de Oro, 2 de Espada, 3 de Basto, 3 de Copas, 3 de Oro, 3 de Espada, 4 de Basto, 4 de Copas, 4 de Oro, 4 de Espada, 5 de Basto, 5 de Copas, 5 de Oro, 5 de Espada, 6 de Basto, 6 de Copas, 6 de Oro, 6 de Espada, 7 de Basto, 7 de Copas, 7 de Oro, 7 de Espada, 8 de Basto, 8 de Copas, 8 de Oro, 8 de Espada, 9 de Basto, 9 de Copas, 9 de Oro, 9 de Espada, Sota de Basto, Sota de Copas, Sota de Oro, Sota de Espada, Caballo de Basto, Caballo de Copas, Caballo de Oro, Caballo de Espada, Rey de Basto, Rey de Copas, Rey de Oro, Rey de Espada]\n"
          ]
        }
      ]
    },
    {
      "cell_type": "markdown",
      "source": [
        "**Ejercicio 6**: Escribir un método en la clase Mazo que *mezcle* el mazo. Puede ser de utilidad el módulo [`random`](https://docs.python.org/3/library/random.html) de la bilbioteca estándar de Python."
      ],
      "metadata": {
        "id": "d7qIHM8Ycyek"
      }
    },
    {
      "cell_type": "code",
      "source": [
        "Mazo_Español.mezclar_mazo()"
      ],
      "metadata": {
        "colab": {
          "base_uri": "https://localhost:8080/"
        },
        "id": "TbBAxeWDpzj0",
        "outputId": "eeac80bf-2d3d-41cb-e101-4fa2c3c423b8"
      },
      "execution_count": 14,
      "outputs": [
        {
          "output_type": "execute_result",
          "data": {
            "text/plain": [
              "[8 de Espada,\n",
              " 3 de Basto,\n",
              " Rey de Oro,\n",
              " 2 de Espada,\n",
              " 6 de Basto,\n",
              " 9 de Espada,\n",
              " 4 de Copas,\n",
              " Sota de Oro,\n",
              " 7 de Copas,\n",
              " 9 de Copas,\n",
              " Caballo de Copas,\n",
              " 4 de Espada,\n",
              " Az de Basto,\n",
              " 6 de Espada,\n",
              " 7 de Oro,\n",
              " Az de Oro,\n",
              " Rey de Copas,\n",
              " 8 de Basto,\n",
              " 6 de Oro,\n",
              " 6 de Copas,\n",
              " 5 de Espada,\n",
              " Sota de Basto,\n",
              " 5 de Copas,\n",
              " 3 de Oro,\n",
              " Az de Copas,\n",
              " 3 de Copas,\n",
              " Rey de Basto,\n",
              " 7 de Espada,\n",
              " Sota de Copas,\n",
              " 8 de Oro,\n",
              " 7 de Basto,\n",
              " Sota de Espada,\n",
              " 2 de Oro,\n",
              " Caballo de Basto,\n",
              " 5 de Basto,\n",
              " Caballo de Oro,\n",
              " 2 de Copas,\n",
              " 5 de Oro,\n",
              " 3 de Espada,\n",
              " 9 de Basto,\n",
              " 4 de Basto,\n",
              " Rey de Espada,\n",
              " 2 de Basto,\n",
              " Caballo de Espada,\n",
              " 8 de Copas,\n",
              " 4 de Oro,\n",
              " Az de Espada,\n",
              " 9 de Oro]"
            ]
          },
          "metadata": {},
          "execution_count": 14
        }
      ]
    }
  ]
}