{
  "cells": [
    {
      "cell_type": "markdown",
      "metadata": {
        "id": "6rxdohV00iKL"
      },
      "source": [
        "# Practica Recursion"
      ]
    },
    {
      "cell_type": "markdown",
      "metadata": {
        "id": "MgICSXQXEZz5"
      },
      "source": [
        "## **Ejercicio 1** Escriba una funcion recursiva que tome un numero natural n e imprima todos los numeros desde n hasta 1."
      ]
    },
    {
      "cell_type": "code",
      "execution_count": 17,
      "metadata": {
        "colab": {
          "base_uri": "https://localhost:8080/"
        },
        "id": "MCa4OrZB9l6I",
        "outputId": "4ce9d919-fb1d-4fea-c5d0-70788e8bdd42"
      },
      "outputs": [
        {
          "name": "stdout",
          "output_type": "stream",
          "text": [
            "5\n",
            "4\n",
            "3\n",
            "2\n"
          ]
        },
        {
          "data": {
            "text/plain": [
              "1"
            ]
          },
          "execution_count": 17,
          "metadata": {},
          "output_type": "execute_result"
        }
      ],
      "source": [
        "def recursion_1(num):   \n",
        "    if num == 1:\n",
        "       return num\n",
        "    else: \n",
        "        print(num)\n",
        "        return recursion_1(num - 1)\n",
        "\n",
        "recursion_1(5)"
      ]
    },
    {
      "cell_type": "markdown",
      "metadata": {
        "id": "S_zEBM1d4wfm"
      },
      "source": [
        "## **Ejercicio 2** Escribir una función recursiva que calcule recursivamente el n-ésimo número triangular (el número 1 + 2 + 3 + ⋯ + n)."
      ]
    },
    {
      "cell_type": "markdown",
      "metadata": {
        "id": "2N8cJy_GrEE7"
      },
      "source": [
        "Cada número triangular Tn está definido por la siguiente fórmula: \n"
      ]
    },
    {
      "cell_type": "code",
      "execution_count": 18,
      "metadata": {
        "colab": {
          "base_uri": "https://localhost:8080/"
        },
        "id": "4yRzr0Zy98vJ",
        "outputId": "e5b72278-9c97-4957-c428-4f01734d3406"
      },
      "outputs": [],
      "source": [
        "def recursion_2(num, triangular = 1):\n",
        "    if num == 1:\n",
        "        return triangular \n",
        "    else:\n",
        "        triangular = triangular + num      \n",
        "        return recursion_2(num - 1, triangular)"
      ]
    },
    {
      "cell_type": "code",
      "execution_count": 19,
      "metadata": {
        "colab": {
          "base_uri": "https://localhost:8080/"
        },
        "id": "ylktWkiOt42T",
        "outputId": "c01876d8-5a43-4366-f60a-047924f4f191"
      },
      "outputs": [
        {
          "data": {
            "text/plain": [
              "3"
            ]
          },
          "execution_count": 19,
          "metadata": {},
          "output_type": "execute_result"
        }
      ],
      "source": [
        "recursion_2(2)"
      ]
    },
    {
      "cell_type": "code",
      "execution_count": 20,
      "metadata": {
        "colab": {
          "base_uri": "https://localhost:8080/"
        },
        "id": "neZlydSZt6zV",
        "outputId": "4926c6fe-a887-4582-cf48-9bb7fccae6bf"
      },
      "outputs": [
        {
          "data": {
            "text/plain": [
              "15"
            ]
          },
          "execution_count": 20,
          "metadata": {},
          "output_type": "execute_result"
        }
      ],
      "source": [
        "recursion_2(5)"
      ]
    },
    {
      "cell_type": "code",
      "execution_count": 21,
      "metadata": {
        "colab": {
          "base_uri": "https://localhost:8080/"
        },
        "id": "sGze1ZOEuhE-",
        "outputId": "324df96d-061a-4ea9-e1a1-61ef110b74b1"
      },
      "outputs": [
        {
          "data": {
            "text/plain": [
              "1"
            ]
          },
          "execution_count": 21,
          "metadata": {},
          "output_type": "execute_result"
        }
      ],
      "source": [
        "recursion_2(1)"
      ]
    },
    {
      "cell_type": "markdown",
      "metadata": {
        "id": "NcFbTBst0k9h"
      },
      "source": [
        "## **Ejercicio 3** Escribir una función recursiva que reciba un número positivo n y devuelva la cantidad de dígitos que tiene."
      ]
    },
    {
      "cell_type": "code",
      "execution_count": 22,
      "metadata": {},
      "outputs": [],
      "source": [
        "def recursion_3(num, cont = 1):\n",
        "  num = num // 10\n",
        "  if num < 1:\n",
        "    return cont\n",
        "  else: \n",
        "    cont += 1\n",
        "    return recursion_3(num, cont)"
      ]
    },
    {
      "cell_type": "code",
      "execution_count": 23,
      "metadata": {},
      "outputs": [
        {
          "data": {
            "text/plain": [
              "1"
            ]
          },
          "execution_count": 23,
          "metadata": {},
          "output_type": "execute_result"
        }
      ],
      "source": [
        "recursion_3(0)"
      ]
    },
    {
      "cell_type": "code",
      "execution_count": 24,
      "metadata": {},
      "outputs": [
        {
          "data": {
            "text/plain": [
              "1"
            ]
          },
          "execution_count": 24,
          "metadata": {},
          "output_type": "execute_result"
        }
      ],
      "source": [
        "recursion_3(1)"
      ]
    },
    {
      "cell_type": "code",
      "execution_count": 25,
      "metadata": {},
      "outputs": [
        {
          "data": {
            "text/plain": [
              "2"
            ]
          },
          "execution_count": 25,
          "metadata": {},
          "output_type": "execute_result"
        }
      ],
      "source": [
        "recursion_3(15)"
      ]
    },
    {
      "cell_type": "code",
      "execution_count": 26,
      "metadata": {},
      "outputs": [
        {
          "data": {
            "text/plain": [
              "3"
            ]
          },
          "execution_count": 26,
          "metadata": {},
          "output_type": "execute_result"
        }
      ],
      "source": [
        "recursion_3(520)"
      ]
    },
    {
      "cell_type": "code",
      "execution_count": 27,
      "metadata": {},
      "outputs": [
        {
          "data": {
            "text/plain": [
              "7"
            ]
          },
          "execution_count": 27,
          "metadata": {},
          "output_type": "execute_result"
        }
      ],
      "source": [
        "recursion_3(5251520)"
      ]
    },
    {
      "cell_type": "markdown",
      "metadata": {
        "id": "LnoHH96w5Boy"
      },
      "source": [
        "## **Ejercicio 4** Escribir una funcion recursiva que encuentre el mayor elemento de una lista.  "
      ]
    },
    {
      "cell_type": "code",
      "execution_count": 28,
      "metadata": {},
      "outputs": [],
      "source": [
        "def recursion_4(lista):\n",
        "    if len(lista) == 1:\n",
        "        return lista[0]\n",
        "    else:\n",
        "        return max(lista[0], recursion_4(lista[1:]))\n"
      ]
    },
    {
      "cell_type": "code",
      "execution_count": 29,
      "metadata": {},
      "outputs": [
        {
          "data": {
            "text/plain": [
              "100"
            ]
          },
          "execution_count": 29,
          "metadata": {},
          "output_type": "execute_result"
        }
      ],
      "source": [
        "lista = [2,5,82,100,6,30,2]\n",
        "recursion_4(lista)"
      ]
    },
    {
      "cell_type": "code",
      "execution_count": 30,
      "metadata": {},
      "outputs": [
        {
          "data": {
            "text/plain": [
              "2000"
            ]
          },
          "execution_count": 30,
          "metadata": {},
          "output_type": "execute_result"
        }
      ],
      "source": [
        "lista = [2,5,82,100,6,30,2,2000]\n",
        "recursion_4(lista)"
      ]
    },
    {
      "cell_type": "markdown",
      "metadata": {
        "id": "iwkC8qNp1MLv"
      },
      "source": [
        "## **Ejercicio 5** Escribir una función recursiva que reciba 2 enteros n y b y devuelva True si n es potencia de b.\n",
        "\n",
        "**Ejemplos**:\n",
        "- es_potencia(8, 2) -> True\n",
        "- es_potencia(64, 4) -> True\n",
        "- es_potencia(70, 10) -> False"
      ]
    },
    {
      "cell_type": "code",
      "execution_count": 1,
      "metadata": {},
      "outputs": [],
      "source": [
        "def es_potencia(n, b, x = 0):\n",
        "   if pow(b, x) > n:\n",
        "     return False\n",
        "   elif pow(b, x) == n:\n",
        "     return True\n",
        "   else: \n",
        "      return es_potencia(n, b, x + 1) "
      ]
    },
    {
      "cell_type": "code",
      "execution_count": 2,
      "metadata": {},
      "outputs": [
        {
          "data": {
            "text/plain": [
              "True"
            ]
          },
          "execution_count": 2,
          "metadata": {},
          "output_type": "execute_result"
        }
      ],
      "source": [
        "es_potencia(8, 2)"
      ]
    },
    {
      "cell_type": "code",
      "execution_count": 3,
      "metadata": {},
      "outputs": [
        {
          "data": {
            "text/plain": [
              "True"
            ]
          },
          "execution_count": 3,
          "metadata": {},
          "output_type": "execute_result"
        }
      ],
      "source": [
        "es_potencia(64, 4)"
      ]
    },
    {
      "cell_type": "code",
      "execution_count": 4,
      "metadata": {},
      "outputs": [
        {
          "data": {
            "text/plain": [
              "False"
            ]
          },
          "execution_count": 4,
          "metadata": {},
          "output_type": "execute_result"
        }
      ],
      "source": [
        "es_potencia(70, 10) "
      ]
    },
    {
      "cell_type": "markdown",
      "metadata": {
        "id": "3Xgvx8UH5oIZ"
      },
      "source": [
        "**Ejercicio 6** Escribir una función recursiva para replicar los elementos de una lista una cantidad n de veces. Por ejemplo:\n",
        "- replicar([1, 3, 3, 7], 2) -> ([1, 1, 3, 3, 3, 3, 7, 7])"
      ]
    },
    {
      "cell_type": "markdown",
      "metadata": {},
      "source": [
        "Arreglar error"
      ]
    },
    {
      "cell_type": "code",
      "execution_count": 4,
      "metadata": {},
      "outputs": [],
      "source": [
        "def replicar(lista, num, lista_nueva = []):\n",
        "  if len(lista) == 0: \n",
        "    return print(lista_nueva)\n",
        "  lista_nueva.extend([lista[0]] * num)\n",
        "  return replicar(lista [1:], num)"
      ]
    },
    {
      "cell_type": "code",
      "execution_count": 5,
      "metadata": {},
      "outputs": [
        {
          "name": "stdout",
          "output_type": "stream",
          "text": [
            "[1, 1, 3, 3, 3, 3, 7, 7]\n"
          ]
        }
      ],
      "source": [
        "lista = [1, 3, 3, 7]\n",
        "replicar(lista, 2)\n"
      ]
    },
    {
      "cell_type": "code",
      "execution_count": 6,
      "metadata": {},
      "outputs": [
        {
          "name": "stdout",
          "output_type": "stream",
          "text": [
            "[1, 1, 3, 3, 3, 3, 7, 7]\n"
          ]
        }
      ],
      "source": [
        "lista_2 = [1, 3, 3, 7]\n",
        "replicar(lista_2, 0)"
      ]
    },
    {
      "cell_type": "markdown",
      "metadata": {
        "id": "9mXgr_gQRWiH"
      },
      "source": [
        "**Ejercicio 7** Escriba una funcion que tome una lista y devuelva esa misma lista en orden inverso. Realice dos versiones:\n",
        "\n",
        "* `reversaR` que resuelva utilizando recursión.\n",
        "* `reversaI` que resuelva utilizando iteración."
      ]
    },
    {
      "cell_type": "markdown",
      "metadata": {
        "id": "R_MVS9FV2p2_"
      },
      "source": [
        "**Ejercicio 8** Escribir una funcion recursiva que reciba como parámetros dos cadenas a y b, y encuentre la posicion de la primer ocurrencia de b como subcadena de a\n",
        "\n",
        "**Ejemplo**:\n",
        "- posicion_de(\"Un tete a tete con Tete\", \"te\") -> 3\n",
        "\n",
        "**Ayuda**\n",
        "- Puede ser de utilidad el método de `str.startswith` que nos dice si una cadena empieza con una subcadena dada. Puede leer mas sobre este método en la [documentacion oficial](https://docs.python.org/3/library/stdtypes.html?highlight=startswith#str.startswith) "
      ]
    },
    {
      "cell_type": "markdown",
      "metadata": {
        "id": "zaR3YsHi7SaA"
      },
      "source": [
        "## Recursión con wrappers\n",
        "\n",
        "Al diseñar funciones recursivas muchas veces puede ser útil implementar una función **wrapper**, por ejemplo para cambiar los valores que hay que tomar, validar parámetros, inicializar datos o manejar excepciones.\n",
        "\n",
        "Se utiliza una función recursiva, llamada funcion auxiliar, como base y luego una funcion no recursiva, llamada wrapper, que utiliza la funcion auxiliar para resolver lo pedido. \n",
        "\n",
        "Por ejemplo, si necesitamos escribir una función recursiva para calcular el promedio, puede no ser evidente como hacerlo:\n",
        "\n",
        "```python\n",
        "def promediar(lista):\n",
        "  if len(lista) == 0:\n",
        "    return ???\n",
        "  promediar(lista[1:]) ???\n",
        "```\n",
        "\n",
        "Para calcular un promedio necesitamos computar tanto una suma como contar la cantidad de elementos. Podemos hacerlo con una función auxiliar\n",
        "\n",
        "```python\n",
        "def _promediar(lista):\n",
        "  if len(lista) == 0:\n",
        "    return 0, 0\n",
        "  cant, suma = promediar(lista[1:])\n",
        "  return cant +1, suma + lista[0]\n",
        "\n",
        "def promediar(lista):\n",
        "  cant, suma = _promediar(lista)\n",
        "  return suma / cant\n",
        "```"
      ]
    },
    {
      "cell_type": "markdown",
      "metadata": {
        "id": "--lq2ot56HOe"
      },
      "source": [
        "**Ejercicio 9** Escribir una funcion recursiva que dada una cadena determine si en la misma hay más letras A o letras E. Utilizar una funcion auxiliar."
      ]
    },
    {
      "cell_type": "markdown",
      "metadata": {
        "id": "3dx3RMhe_ZTc"
      },
      "source": [
        "**Ejercicio 10** Escriba una función `potencia(b,n) que calcule la potencia para cualquier n entero, incluso si n es negativa. Utilizar una funcion auxiliar. "
      ]
    },
    {
      "cell_type": "markdown",
      "metadata": {
        "id": "XD295CPgAQ0D"
      },
      "source": [
        "**Ejercicio 11** Ya sabemos que la implementación recursiva del cálculo del número de Fibonacci (Fn = Fn−1 + Fn−2, F0 = 0, F1 = 1) es ineficiente porque muchas de las ramas calculan reiteradamente los mismos valores.\n",
        "\n",
        "Escribir una función fibonacci(n) que calcule el enésimo número de Fibonacci de forma recursiva pero que utilice un diccionario para almacenar los valores ya computados y no computarlos más de una vez.\n",
        "\n",
        "**Nota**: Será necesario implementar una función wrapper para cumplir con la firma de la función pedida."
      ]
    }
  ],
  "metadata": {
    "colab": {
      "provenance": []
    },
    "kernelspec": {
      "display_name": "Python 3.10.9 64-bit (microsoft store)",
      "language": "python",
      "name": "python3"
    },
    "language_info": {
      "codemirror_mode": {
        "name": "ipython",
        "version": 3
      },
      "file_extension": ".py",
      "mimetype": "text/x-python",
      "name": "python",
      "nbconvert_exporter": "python",
      "pygments_lexer": "ipython3",
      "version": "3.10.9"
    },
    "vscode": {
      "interpreter": {
        "hash": "7051500033a16f6c160bb9f5550ddf234d67bca67ecbbc2a0f566efe3f532574"
      }
    }
  },
  "nbformat": 4,
  "nbformat_minor": 0
}
