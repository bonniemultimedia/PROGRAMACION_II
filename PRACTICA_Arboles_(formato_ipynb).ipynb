{
  "cells": [
    {
      "cell_type": "markdown",
      "metadata": {
        "id": "42WZXXINVURQ"
      },
      "source": [
        "# Practica 3"
      ]
    },
    {
      "cell_type": "markdown",
      "metadata": {
        "id": "KSxMmelYVer0"
      },
      "source": [
        "##Árboles Binarios"
      ]
    },
    {
      "cell_type": "markdown",
      "metadata": {
        "id": "ZUlsgVAEhPOz"
      },
      "source": [
        "###**Ejercicio 1**: Utilizando la clase Tree presentada a continuación\n",
        "\n",
        "```python\n",
        "class Tree:\n",
        "  def __init__(self, cargo, left = None, right = None):\n",
        "    self.cargo = cargo\n",
        "    self.left = left\n",
        "    self.right = right\n",
        "```\n",
        "\n",
        "Implemente los siguiente métodos:\n",
        "\n",
        " *Ayuda: pensar que cada árbol tiene a su izquierda y derecha objetos árboles como sus hijos*.\n",
        "* **nodos**: devuelve la cantidad de nodos del árbol\n",
        "* **menor_mayor**: devuelve el menor y el mayor elemento del árbol en una tupla\n",
        "* **buscar**: busca si un elemento está o no en el árbol\n",
        "* **altura**: calcula la altura del árbol, la distancia desde la raíz hasta la hoja más lejana"
      ]
    },
    {
      "cell_type": "code",
      "execution_count": 1,
      "metadata": {
        "id": "IEI_-fNMhPPG"
      },
      "outputs": [],
      "source": [
        "class Tree:\n",
        "  def __init__(self, cargo, left=None, right=None):\n",
        "    self.cargo = cargo\n",
        "    self.left = left\n",
        "    self.right = right\n",
        "  \n",
        "  def nodos(self):\n",
        "    cantidad = 1\n",
        "\n",
        "    if self.left is not None:\n",
        "      cantidad += self.left.nodos()\n",
        "    \n",
        "    if self.right is not None:\n",
        "      cantidad += self.right.nodos()\n",
        "\n",
        "    return cantidad\n",
        "\n",
        "  def mayor(self):\n",
        "\n",
        "    maximo = self.cargo\n",
        "    \n",
        "    if self.left is not None:\n",
        "      valor_maximo = self.left.mayor()\n",
        "      maximo = max(maximo, valor_maximo)\n",
        "    \n",
        "    if self.right is not None:\n",
        "      valor_maximo = self.right.mayor()\n",
        "      maximo = max(maximo, valor_maximo)\n",
        "\n",
        "    return  maximo\n",
        "  \n",
        "  def menor_mayor(self):\n",
        "    minimo = maximo = self.cargo\n",
        "\n",
        "    if self.left is not None:\n",
        "      valor_minimo, valor_maximo = self.left.menor_mayor()\n",
        "      minimo = min(minimo, valor_minimo)\n",
        "      maximo = max(maximo, valor_maximo)\n",
        "\n",
        "    if self.right is not None:\n",
        "      valor_minimo, valor_maximo = self.right.menor_mayor()\n",
        "      minimo = min(minimo, valor_minimo)\n",
        "      maximo = max(maximo, valor_maximo)\n",
        "    \n",
        "    return minimo, maximo\n",
        "\n",
        "  def buscar(self, element):\n",
        "\n",
        "    if self.cargo == element:\n",
        "      return True\n",
        "  \n",
        "    if self.left is not None:\n",
        "      if self.left.buscar(element):\n",
        "        return True\n",
        "    \n",
        "    if self.right is not None:\n",
        "      if self.right.buscar(element):\n",
        "        return True\n",
        "    \n",
        "    return False\n",
        "\n",
        "  def altura(self):\n",
        "    \n",
        "    if self.left is not None:\n",
        "      laltura = self.left.altura()\n",
        "    else:\n",
        "      laltura = -1\n",
        "\n",
        "    if self.right is not None:\n",
        "      raltura = self.right.altura()\n",
        "    else:\n",
        "      raltura = -1\n",
        "\n",
        "    return max(laltura, raltura) + 1 \n",
        "\n"
      ]
    },
    {
      "cell_type": "code",
      "execution_count": 2,
      "metadata": {
        "id": "6xo9s1UQPJkR"
      },
      "outputs": [],
      "source": [
        "tree = Tree(8, Tree(2, Tree(4,Tree(7), Tree(3)), Tree(-3)), Tree(15, Tree(17), Tree(20,Tree(22),Tree(0))))\n",
        "   \n",
        "#        ___8___\n",
        "#       /       \\\n",
        "#      2         15\n",
        "#    /  \\       /  \\\n",
        "#   4   -3    17    20\n",
        "#  / \\             /  \\\n",
        "# 7   3          22    0"
      ]
    },
    {
      "cell_type": "markdown",
      "metadata": {
        "id": "PtNPgYJTSCmk"
      },
      "source": [
        "Test"
      ]
    },
    {
      "cell_type": "code",
      "execution_count": 3,
      "metadata": {
        "colab": {
          "base_uri": "https://localhost:8080/"
        },
        "id": "qBshIgiXPb9S",
        "outputId": "63fc8bad-e5d5-41fa-9fdf-7b32f5e28592"
      },
      "outputs": [
        {
          "data": {
            "text/plain": [
              "22"
            ]
          },
          "execution_count": 3,
          "metadata": {},
          "output_type": "execute_result"
        }
      ],
      "source": [
        "tree.mayor()"
      ]
    },
    {
      "cell_type": "code",
      "execution_count": 4,
      "metadata": {
        "colab": {
          "base_uri": "https://localhost:8080/"
        },
        "id": "bhqUXV2wS8fz",
        "outputId": "a904b0fb-a93d-4b74-ef6a-715c544152d4"
      },
      "outputs": [
        {
          "data": {
            "text/plain": [
              "(-3, 22)"
            ]
          },
          "execution_count": 4,
          "metadata": {},
          "output_type": "execute_result"
        }
      ],
      "source": [
        "tree.menor_mayor()"
      ]
    },
    {
      "cell_type": "code",
      "execution_count": 5,
      "metadata": {
        "colab": {
          "base_uri": "https://localhost:8080/"
        },
        "id": "7p9PS-lNRhhL",
        "outputId": "6f85a73f-7ba5-461d-df52-0da439b42e8d"
      },
      "outputs": [
        {
          "data": {
            "text/plain": [
              "11"
            ]
          },
          "execution_count": 5,
          "metadata": {},
          "output_type": "execute_result"
        }
      ],
      "source": [
        "tree.nodos()"
      ]
    },
    {
      "cell_type": "code",
      "execution_count": 6,
      "metadata": {
        "colab": {
          "base_uri": "https://localhost:8080/"
        },
        "id": "RpUG6rVoSchC",
        "outputId": "c30c49e7-e284-4876-877c-46731463b35a"
      },
      "outputs": [
        {
          "data": {
            "text/plain": [
              "3"
            ]
          },
          "execution_count": 6,
          "metadata": {},
          "output_type": "execute_result"
        }
      ],
      "source": [
        "tree.altura()"
      ]
    },
    {
      "cell_type": "code",
      "execution_count": 7,
      "metadata": {
        "colab": {
          "base_uri": "https://localhost:8080/"
        },
        "id": "qHlWmawDSm7q",
        "outputId": "7f2e1613-d279-4967-d26f-6fe7dfcc5e69"
      },
      "outputs": [
        {
          "data": {
            "text/plain": [
              "False"
            ]
          },
          "execution_count": 7,
          "metadata": {},
          "output_type": "execute_result"
        }
      ],
      "source": [
        "tree.buscar(500)"
      ]
    },
    {
      "cell_type": "code",
      "execution_count": 8,
      "metadata": {
        "colab": {
          "base_uri": "https://localhost:8080/"
        },
        "id": "Sqo6LGe-Sem6",
        "outputId": "d6fb6827-c5d5-4a9a-beec-26d3929a0c89"
      },
      "outputs": [
        {
          "data": {
            "text/plain": [
              "True"
            ]
          },
          "execution_count": 8,
          "metadata": {},
          "output_type": "execute_result"
        }
      ],
      "source": [
        "tree.buscar(22)\n"
      ]
    },
    {
      "cell_type": "markdown",
      "metadata": {
        "id": "boWybkv6hPPG"
      },
      "source": [
        "**Ejercicio 2**: \n",
        "\n",
        "a. Implementar los recorridos PreOrder, InOrder y PostOrder como funciones recursivas \n",
        "\n",
        "b. Implementar los recorridos PreOrder, InOrder y PostOrder como funciones iterativas.\n",
        "\n",
        "_Ayuda_: Para las versiones iterativas, necesitará utilizar una Pila como estructura de datos adicional. Puede importar una implementacion cualquiera de Pila que haya realizado en la Practica anterior."
      ]
    },
    {
      "cell_type": "code",
      "execution_count": 9,
      "metadata": {
        "colab": {
          "base_uri": "https://localhost:8080/"
        },
        "id": "0ZqUyj4FhPPG",
        "outputId": "37256d73-8735-4163-ea15-63ac838e1ca9"
      },
      "outputs": [
        {
          "name": "stdout",
          "output_type": "stream",
          "text": [
            "8\n",
            "4\n",
            "2\n",
            "1\n",
            "3\n",
            "7\n",
            "15\n",
            "17\n",
            "20\n",
            "19\n",
            "22\n",
            "\n",
            "1\n",
            "2\n",
            "3\n",
            "4\n",
            "7\n",
            "8\n",
            "17\n",
            "15\n",
            "19\n",
            "20\n",
            "22\n",
            "\n",
            "1\n",
            "3\n",
            "2\n",
            "7\n",
            "4\n",
            "17\n",
            "19\n",
            "22\n",
            "20\n",
            "15\n",
            "8\n",
            "\n"
          ]
        }
      ],
      "source": [
        "# Version recursiva\n",
        "def treePreOrder(tree):\n",
        "  #Caso Base\n",
        "  if tree == None:\n",
        "    return\n",
        "  \n",
        "  print(tree.cargo)\n",
        "  treePreOrder(tree.left)\n",
        "  treePreOrder(tree.right)\n",
        "\n",
        "def treeInOrder(tree):\n",
        "  #Caso Base\n",
        "  if tree == None:\n",
        "    return \n",
        "  treeInOrder(tree.left)\n",
        "  print(tree.cargo)\n",
        "  treeInOrder(tree.right)\n",
        "\n",
        "def treePostOrder(tree):\n",
        "  #Caso Base\n",
        "  if tree == None:\n",
        "    return\n",
        "  treePostOrder(tree.left)\n",
        "  treePostOrder(tree.right)\n",
        "  print(tree.cargo)\n",
        "\n",
        "\n",
        "tree = Tree(8, Tree(4, Tree(2,Tree(1), Tree(3)), Tree(7)), Tree(15, Tree(17), Tree(20,Tree(19),Tree(22))))\n",
        "#        ___8___\n",
        "#       /       \\\n",
        "#      4         15\n",
        "#    /  \\       /  \\\n",
        "#   2    7    17    20\n",
        "#  / \\             /  \\\n",
        "# 1   3          19    22\n",
        "\n",
        "treePreOrder(tree)\n",
        "print(\"\")\n",
        "\n",
        "treeInOrder(tree)\n",
        "print(\"\")\n",
        "\n",
        "treePostOrder(tree)\n",
        "print(\"\")\n"
      ]
    },
    {
      "cell_type": "markdown",
      "metadata": {},
      "source": [
        "Versión Iterativa"
      ]
    },
    {
      "cell_type": "code",
      "execution_count": 10,
      "metadata": {
        "id": "JdzU-fmGyR8H"
      },
      "outputs": [],
      "source": [
        "# Version iterativa\n",
        "\n",
        "tree = Tree(8, Tree(4, Tree(2,Tree(1), Tree(3)), Tree(7)), Tree(15, Tree(17), Tree(20,Tree(19),Tree(22))))\n",
        "#        ___8___\n",
        "#       /       \\\n",
        "#      4         15\n",
        "#    /  \\       /  \\\n",
        "#   2    7    17    20\n",
        "#  / \\             /  \\\n",
        "# 1   3          19    22\n",
        "\n"
      ]
    },
    {
      "cell_type": "code",
      "execution_count": 11,
      "metadata": {
        "colab": {
          "base_uri": "https://localhost:8080/"
        },
        "id": "byKHLiIk6Mxt",
        "outputId": "9dd5e5d7-4d98-43f2-d786-efe249a3ab42"
      },
      "outputs": [
        {
          "name": "stdout",
          "output_type": "stream",
          "text": [
            "8\n",
            "4\n",
            "2\n",
            "1\n",
            "3\n",
            "7\n",
            "15\n",
            "17\n",
            "20\n",
            "19\n",
            "22\n"
          ]
        }
      ],
      "source": [
        "def treePreOrderI(tree):\n",
        "  lista_auxiliar = []\n",
        "  while tree != None or lista_auxiliar != []:\n",
        "    print(tree.cargo)\n",
        "    if tree.right is not None:\n",
        "      lista_auxiliar.append(tree.right)\n",
        "    if tree.left is not None:\n",
        "      tree = tree.left\n",
        "    else:\n",
        "      if lista_auxiliar == []:\n",
        "        return\n",
        "      tree = lista_auxiliar.pop()\n",
        "\n",
        "\n",
        "treePreOrderI(tree)\n",
        "\n"
      ]
    },
    {
      "cell_type": "markdown",
      "metadata": {
        "id": "vKpca6UAaDyp"
      },
      "source": [
        "##Árboles Binarios de Búsqueda"
      ]
    },
    {
      "cell_type": "markdown",
      "metadata": {
        "id": "jcHTBLBdaDy7"
      },
      "source": [
        "**Ejercicio 4**: Utilizando la misma clase Tree de la sección anterior, implemente otra clase llamada BSTree que herede de esta, reimplemente los métodos **menor_mayor**, **buscar** e implemente un nuevo método llamado **insertar** que inserte un elemento."
      ]
    },
    {
      "cell_type": "code",
      "execution_count": 13,
      "metadata": {
        "id": "ZlRN5ZT_aDy8"
      },
      "outputs": [],
      "source": [
        "class BSTree(Tree):\n",
        "\n",
        "  def menor_mayor(self):\n",
        "    super().menor_mayor()\n",
        "\n",
        "  def buscar(self, element):\n",
        "    super().buscar()\n",
        "\n",
        "  def insert(self, element):\n",
        "    if element < self.cargo and self.left is None: #es menor que el cargo y no  hay nodo izquiedo creo un nodo nuevo\n",
        "      self.left = BSTree(element) \n",
        "    \n",
        "    elif element > self.cargo and self.right is None: #es mayor que el cargo y no hay nodo derecho creo un nodo nuevo\n",
        "      self.right = BSTree(element)\n",
        "    \n",
        "    elif element <= self.cargo and self.left is not None: #es menor que el cargo y no esta vacio llamo recursivamente a insert\n",
        "      self.left.insert(element)\n",
        "\n",
        "    elif element >= self.cargo and self.right is not None: #es mayor que el cargo y no esta vacio llamo recursivamente a insert\n",
        "      self.right.insert(element)\n",
        "    \n",
        "\n"
      ]
    },
    {
      "cell_type": "code",
      "execution_count": 14,
      "metadata": {
        "id": "R5s81KmvyvSI"
      },
      "outputs": [],
      "source": [
        "import random\n",
        "btree = BSTree(10)\n",
        "for i in range(10):\n",
        "  btree.insert(random.randint(0, 20))"
      ]
    },
    {
      "cell_type": "code",
      "execution_count": 15,
      "metadata": {
        "colab": {
          "base_uri": "https://localhost:8080/"
        },
        "id": "vK8BEblvxnkH",
        "outputId": "f8ed4d9b-6002-4d59-9b53-14b8e9855a2c"
      },
      "outputs": [
        {
          "name": "stdout",
          "output_type": "stream",
          "text": [
            "10\n",
            "2\n",
            "10\n",
            "7\n",
            "2\n",
            "8\n",
            "13\n",
            "17\n",
            "20\n",
            "17\n"
          ]
        }
      ],
      "source": [
        "treePreOrder(btree)"
      ]
    }
  ],
  "metadata": {
    "colab": {
      "provenance": []
    },
    "kernelspec": {
      "display_name": "Python 3",
      "name": "python3"
    },
    "language_info": {
      "name": "python"
    }
  },
  "nbformat": 4,
  "nbformat_minor": 0
}
